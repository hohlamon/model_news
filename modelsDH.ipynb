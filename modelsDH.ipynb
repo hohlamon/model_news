{
 "cells": [
  {
   "cell_type": "code",
   "execution_count": 1,
   "id": "13367dfa-8ffa-4cfa-9c71-9e423f3227eb",
   "metadata": {},
   "outputs": [
    {
     "name": "stderr",
     "output_type": "stream",
     "text": [
      "[nltk_data] Downloading package punkt to\n",
      "[nltk_data]     C:\\Users\\302\\AppData\\Roaming\\nltk_data...\n",
      "[nltk_data]   Package punkt is already up-to-date!\n"
     ]
    }
   ],
   "source": [
    "import nltk\n",
    "nltk.download('punkt')\n",
    "from nltk.tokenize import sent_tokenize, word_tokenize\n",
    "import spacy\n",
    "import gensim"
   ]
  },
  {
   "cell_type": "code",
   "execution_count": 3,
   "id": "aae2b912-4704-4b70-ad6f-bf936380232a",
   "metadata": {},
   "outputs": [],
   "source": [
    "filename = 'meduza_2.txt' # свой файл надо положить рядом и прописать тут путь\n",
    "## выгрузим текст из файла\n",
    "with open(filename, encoding='utf-8') as open_file:\n",
    "    text_as_lines = open_file.read()"
   ]
  },
  {
   "cell_type": "code",
   "execution_count": 4,
   "id": "44284e8c-92f4-4a35-b4de-b3899481a38d",
   "metadata": {},
   "outputs": [],
   "source": [
    "sent_text = sent_tokenize(text_as_lines)\n"
   ]
  },
  {
   "cell_type": "code",
   "execution_count": 5,
   "id": "bc3c9b89-d669-435b-bf3c-05cd119cd685",
   "metadata": {},
   "outputs": [
    {
     "name": "stdout",
     "output_type": "stream",
     "text": [
      "Requirement already satisfied: ru-core-news-md==3.2.0 from https://github.com/explosion/spacy-models/releases/download/ru_core_news_md-3.2.0/ru_core_news_md-3.2.0-py3-none-any.whl#egg=ru_core_news_md==3.2.0 in c:\\users\\302\\appdata\\local\\programs\\python\\python39\\lib\\site-packages (3.2.0)"
     ]
    },
    {
     "name": "stderr",
     "output_type": "stream",
     "text": [
      "WARNING: You are using pip version 20.2.3; however, version 22.0.4 is available.\n",
      "You should consider upgrading via the 'C:\\Users\\302\\AppData\\Local\\Programs\\Python\\Python39\\python.exe -m pip install --upgrade pip' command.\n"
     ]
    },
    {
     "name": "stdout",
     "output_type": "stream",
     "text": [
      "\n",
      "Requirement already satisfied: pymorphy2>=0.9 in c:\\users\\302\\appdata\\local\\programs\\python\\python39\\lib\\site-packages (from ru-core-news-md==3.2.0) (0.9.1)\n",
      "Requirement already satisfied: spacy<3.3.0,>=3.2.0 in c:\\users\\302\\appdata\\local\\programs\\python\\python39\\lib\\site-packages (from ru-core-news-md==3.2.0) (3.2.0)\n",
      "Requirement already satisfied: dawg-python>=0.7.1 in c:\\users\\302\\appdata\\local\\programs\\python\\python39\\lib\\site-packages (from pymorphy2>=0.9->ru-core-news-md==3.2.0) (0.7.2)\n",
      "Requirement already satisfied: docopt>=0.6 in c:\\users\\302\\appdata\\local\\programs\\python\\python39\\lib\\site-packages (from pymorphy2>=0.9->ru-core-news-md==3.2.0) (0.6.2)\n",
      "Requirement already satisfied: pymorphy2-dicts-ru<3.0,>=2.4 in c:\\users\\302\\appdata\\local\\programs\\python\\python39\\lib\\site-packages (from pymorphy2>=0.9->ru-core-news-md==3.2.0) (2.4.417127.4579844)\n",
      "Requirement already satisfied: spacy-loggers<2.0.0,>=1.0.0 in c:\\users\\302\\appdata\\local\\programs\\python\\python39\\lib\\site-packages (from spacy<3.3.0,>=3.2.0->ru-core-news-md==3.2.0) (1.0.1)\n",
      "Requirement already satisfied: numpy>=1.15.0 in c:\\users\\302\\appdata\\local\\programs\\python\\python39\\lib\\site-packages (from spacy<3.3.0,>=3.2.0->ru-core-news-md==3.2.0) (1.20.1)\n",
      "Requirement already satisfied: packaging>=20.0 in c:\\users\\302\\appdata\\local\\programs\\python\\python39\\lib\\site-packages (from spacy<3.3.0,>=3.2.0->ru-core-news-md==3.2.0) (20.9)\n",
      "Requirement already satisfied: pydantic!=1.8,!=1.8.1,<1.9.0,>=1.7.4 in c:\\users\\302\\appdata\\local\\programs\\python\\python39\\lib\\site-packages (from spacy<3.3.0,>=3.2.0->ru-core-news-md==3.2.0) (1.8.2)\n",
      "Requirement already satisfied: catalogue<2.1.0,>=2.0.6 in c:\\users\\302\\appdata\\local\\programs\\python\\python39\\lib\\site-packages (from spacy<3.3.0,>=3.2.0->ru-core-news-md==3.2.0) (2.0.7)\n",
      "Requirement already satisfied: requests<3.0.0,>=2.13.0 in c:\\users\\302\\appdata\\local\\programs\\python\\python39\\lib\\site-packages (from spacy<3.3.0,>=3.2.0->ru-core-news-md==3.2.0) (2.25.1)\n",
      "Requirement already satisfied: spacy-legacy<3.1.0,>=3.0.8 in c:\\users\\302\\appdata\\local\\programs\\python\\python39\\lib\\site-packages (from spacy<3.3.0,>=3.2.0->ru-core-news-md==3.2.0) (3.0.9)\n",
      "Requirement already satisfied: langcodes<4.0.0,>=3.2.0 in c:\\users\\302\\appdata\\local\\programs\\python\\python39\\lib\\site-packages (from spacy<3.3.0,>=3.2.0->ru-core-news-md==3.2.0) (3.3.0)\n",
      "Requirement already satisfied: srsly<3.0.0,>=2.4.1 in c:\\users\\302\\appdata\\local\\programs\\python\\python39\\lib\\site-packages (from spacy<3.3.0,>=3.2.0->ru-core-news-md==3.2.0) (2.4.2)\n",
      "Requirement already satisfied: preshed<3.1.0,>=3.0.2 in c:\\users\\302\\appdata\\local\\programs\\python\\python39\\lib\\site-packages (from spacy<3.3.0,>=3.2.0->ru-core-news-md==3.2.0) (3.0.5)\n",
      "Requirement already satisfied: wasabi<1.1.0,>=0.8.1 in c:\\users\\302\\appdata\\local\\programs\\python\\python39\\lib\\site-packages (from spacy<3.3.0,>=3.2.0->ru-core-news-md==3.2.0) (0.8.2)\n",
      "Requirement already satisfied: blis<0.8.0,>=0.4.0 in c:\\users\\302\\appdata\\local\\programs\\python\\python39\\lib\\site-packages (from spacy<3.3.0,>=3.2.0->ru-core-news-md==3.2.0) (0.7.4)\n",
      "Requirement already satisfied: thinc<8.1.0,>=8.0.12 in c:\\users\\302\\appdata\\local\\programs\\python\\python39\\lib\\site-packages (from spacy<3.3.0,>=3.2.0->ru-core-news-md==3.2.0) (8.0.15)\n",
      "Requirement already satisfied: jinja2 in c:\\users\\302\\appdata\\local\\programs\\python\\python39\\lib\\site-packages (from spacy<3.3.0,>=3.2.0->ru-core-news-md==3.2.0) (2.11.3)\n",
      "Requirement already satisfied: tqdm<5.0.0,>=4.38.0 in c:\\users\\302\\appdata\\local\\programs\\python\\python39\\lib\\site-packages (from spacy<3.3.0,>=3.2.0->ru-core-news-md==3.2.0) (4.58.0)\n",
      "Requirement already satisfied: cymem<2.1.0,>=2.0.2 in c:\\users\\302\\appdata\\local\\programs\\python\\python39\\lib\\site-packages (from spacy<3.3.0,>=3.2.0->ru-core-news-md==3.2.0) (2.0.5)\n",
      "Requirement already satisfied: pathy>=0.3.5 in c:\\users\\302\\appdata\\local\\programs\\python\\python39\\lib\\site-packages (from spacy<3.3.0,>=3.2.0->ru-core-news-md==3.2.0) (0.4.0)\n",
      "Requirement already satisfied: setuptools in c:\\users\\302\\appdata\\local\\programs\\python\\python39\\lib\\site-packages (from spacy<3.3.0,>=3.2.0->ru-core-news-md==3.2.0) (49.2.1)\n",
      "Requirement already satisfied: murmurhash<1.1.0,>=0.28.0 in c:\\users\\302\\appdata\\local\\programs\\python\\python39\\lib\\site-packages (from spacy<3.3.0,>=3.2.0->ru-core-news-md==3.2.0) (1.0.5)\n",
      "Requirement already satisfied: typer<0.5.0,>=0.3.0 in c:\\users\\302\\appdata\\local\\programs\\python\\python39\\lib\\site-packages (from spacy<3.3.0,>=3.2.0->ru-core-news-md==3.2.0) (0.3.2)\n",
      "Requirement already satisfied: pyparsing>=2.0.2 in c:\\users\\302\\appdata\\local\\programs\\python\\python39\\lib\\site-packages (from packaging>=20.0->spacy<3.3.0,>=3.2.0->ru-core-news-md==3.2.0) (2.4.7)\n",
      "Requirement already satisfied: typing-extensions>=3.7.4.3 in c:\\users\\302\\appdata\\local\\programs\\python\\python39\\lib\\site-packages (from pydantic!=1.8,!=1.8.1,<1.9.0,>=1.7.4->spacy<3.3.0,>=3.2.0->ru-core-news-md==3.2.0) (3.7.4.3)\n",
      "Requirement already satisfied: urllib3<1.27,>=1.21.1 in c:\\users\\302\\appdata\\local\\programs\\python\\python39\\lib\\site-packages (from requests<3.0.0,>=2.13.0->spacy<3.3.0,>=3.2.0->ru-core-news-md==3.2.0) (1.26.3)\n",
      "Requirement already satisfied: chardet<5,>=3.0.2 in c:\\users\\302\\appdata\\local\\programs\\python\\python39\\lib\\site-packages (from requests<3.0.0,>=2.13.0->spacy<3.3.0,>=3.2.0->ru-core-news-md==3.2.0) (4.0.0)\n",
      "Requirement already satisfied: certifi>=2017.4.17 in c:\\users\\302\\appdata\\local\\programs\\python\\python39\\lib\\site-packages (from requests<3.0.0,>=2.13.0->spacy<3.3.0,>=3.2.0->ru-core-news-md==3.2.0) (2020.12.5)\n",
      "Requirement already satisfied: idna<3,>=2.5 in c:\\users\\302\\appdata\\local\\programs\\python\\python39\\lib\\site-packages (from requests<3.0.0,>=2.13.0->spacy<3.3.0,>=3.2.0->ru-core-news-md==3.2.0) (2.10)\n",
      "Requirement already satisfied: MarkupSafe>=0.23 in c:\\users\\302\\appdata\\local\\programs\\python\\python39\\lib\\site-packages (from jinja2->spacy<3.3.0,>=3.2.0->ru-core-news-md==3.2.0) (1.1.1)\n",
      "Requirement already satisfied: smart-open<4.0.0,>=2.2.0 in c:\\users\\302\\appdata\\local\\programs\\python\\python39\\lib\\site-packages (from pathy>=0.3.5->spacy<3.3.0,>=3.2.0->ru-core-news-md==3.2.0) (3.0.0)\n",
      "Requirement already satisfied: click<7.2.0,>=7.1.1 in c:\\users\\302\\appdata\\local\\programs\\python\\python39\\lib\\site-packages (from typer<0.5.0,>=0.3.0->spacy<3.3.0,>=3.2.0->ru-core-news-md==3.2.0) (7.1.2)\n",
      "[+] Download and installation successful\n",
      "You can now load the package via spacy.load('ru_core_news_md')\n"
     ]
    }
   ],
   "source": [
    "!python -m spacy download ru_core_news_md"
   ]
  },
  {
   "cell_type": "code",
   "execution_count": 6,
   "id": "d50da9ad-14bf-4729-bfdd-ca699b62d7d0",
   "metadata": {},
   "outputs": [],
   "source": [
    "russian_model = spacy.load('ru_core_news_md', disable=['ner', 'attribute_ruler'])"
   ]
  },
  {
   "cell_type": "code",
   "execution_count": 7,
   "id": "04af0795-fde1-491c-a7cb-8bbe220c548c",
   "metadata": {},
   "outputs": [],
   "source": [
    "def poser (sent):\n",
    "  output = []\n",
    "  parsed = russian_model(sent)\n",
    "  for word in parsed:\n",
    "    output.append(word.lemma_+'_'+word.pos_)\n",
    "  return output"
   ]
  },
  {
   "cell_type": "code",
   "execution_count": null,
   "id": "07c06b33-42bd-41c6-9be0-e34cb5752db3",
   "metadata": {},
   "outputs": [],
   "source": [
    "procesed_text = [poser(sent) for sent in sent_text]"
   ]
  },
  {
   "cell_type": "code",
   "execution_count": null,
   "id": "e5b8f1d5-27cf-4dad-a925-7a6c8fcd9ee1",
   "metadata": {},
   "outputs": [],
   "source": [
    "model_meduza = gensim.models.Word2Vec(procesed_text)"
   ]
  },
  {
   "cell_type": "code",
   "execution_count": null,
   "id": "d6f12e48-df93-4020-81ed-df7a60593b5f",
   "metadata": {},
   "outputs": [],
   "source": [
    "model.save(\"model_meduza.wordvectors\")"
   ]
  },
  {
   "cell_type": "code",
   "execution_count": null,
   "id": "60b83a27-ba08-4e5a-8449-b80bf8c3c256",
   "metadata": {},
   "outputs": [],
   "source": [
    "model_meduza.wv.most_similar('демократия_NOUN')"
   ]
  }
 ],
 "metadata": {
  "kernelspec": {
   "display_name": "Python 3",
   "language": "python",
   "name": "python3"
  },
  "language_info": {
   "codemirror_mode": {
    "name": "ipython",
    "version": 3
   },
   "file_extension": ".py",
   "mimetype": "text/x-python",
   "name": "python",
   "nbconvert_exporter": "python",
   "pygments_lexer": "ipython3",
   "version": "3.9.2"
  }
 },
 "nbformat": 4,
 "nbformat_minor": 5
}
